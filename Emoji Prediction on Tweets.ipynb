{
 "cells": [
  {
   "cell_type": "markdown",
   "metadata": {},
   "source": [
    "## Emoji Prediction on Tweets"
   ]
  },
  {
   "cell_type": "code",
   "execution_count": 1,
   "metadata": {},
   "outputs": [],
   "source": [
    "import os\n",
    "import numpy as np\n",
    "import pandas as pd\n",
    "import matplotlib.pyplot as plt\n",
    "import seaborn as sns\n",
    "import pickle\n",
    "import tensorflow.keras"
   ]
  },
  {
   "cell_type": "code",
   "execution_count": 2,
   "metadata": {},
   "outputs": [],
   "source": [
    "df = pd.read_csv(\"data/emoji_uncleaned.csv\").sample(n=30)\n",
    "df.dropna(inplace=True)\n",
    "\n",
    "X = df[\"Tweet\"].values\n",
    "y = df[\"Label\"].values"
   ]
  },
  {
   "cell_type": "code",
   "execution_count": 3,
   "metadata": {},
   "outputs": [],
   "source": [
    "emoji_raw = open('data/us_mapping.txt','r',encoding=\"utf8\")\n",
    "\n",
    "emojis=[]\n",
    "for sentence in emoji_raw:\n",
    "    sentence = sentence.rstrip()\n",
    "    emojis.append(sentence)\n",
    "\n",
    "    \n",
    "emoji_dict={}\n",
    "\n",
    "for e in emojis:\n",
    "    idx = int(e.split()[0])\n",
    "    emoji = e.split()[1]\n",
    "    emoji_dict[idx] = emoji"
   ]
  },
  {
   "cell_type": "code",
   "execution_count": 4,
   "metadata": {},
   "outputs": [],
   "source": [
    "from keras.preprocessing.sequence import pad_sequences\n",
    "\n",
    "tokenizer = pickle.load(open(\"Model/tweet_tokenizer\",'rb'))\n",
    "\n",
    "def preprocess_text(X):\n",
    "    max_len=40\n",
    "    X_seqs = tokenizer.texts_to_sequences(X)\n",
    "    X_seqs_pd = pad_sequences(X_seqs, truncating=\"pre\", padding=\"pre\", maxlen=max_len)\n",
    "    return X_seqs_pd"
   ]
  },
  {
   "cell_type": "code",
   "execution_count": 5,
   "metadata": {},
   "outputs": [
    {
     "name": "stdout",
     "output_type": "stream",
     "text": [
      "Model: \"sequential\"\n",
      "_________________________________________________________________\n",
      "Layer (type)                 Output Shape              Param #   \n",
      "=================================================================\n",
      "embedding (Embedding)        (None, 40, 128)           8022016   \n",
      "_________________________________________________________________\n",
      "bidirectional (Bidirectional (None, 40, 160)           133760    \n",
      "_________________________________________________________________\n",
      "bidirectional_1 (Bidirection (None, 40, 160)           154240    \n",
      "_________________________________________________________________\n",
      "global_max_pooling1d (Global (None, 160)               0         \n",
      "_________________________________________________________________\n",
      "dropout (Dropout)            (None, 160)               0         \n",
      "_________________________________________________________________\n",
      "dense (Dense)                (None, 64)                10304     \n",
      "_________________________________________________________________\n",
      "dropout_1 (Dropout)          (None, 64)                0         \n",
      "_________________________________________________________________\n",
      "dense_1 (Dense)              (None, 20)                1300      \n",
      "=================================================================\n",
      "Total params: 8,321,620\n",
      "Trainable params: 8,321,620\n",
      "Non-trainable params: 0\n",
      "_________________________________________________________________\n"
     ]
    }
   ],
   "source": [
    "from tensorflow import keras\n",
    "\n",
    "model = keras.models.load_model(\"Model/BLSTM.h5\", compile=False)\n",
    "model.summary()"
   ]
  },
  {
   "cell_type": "code",
   "execution_count": 6,
   "metadata": {},
   "outputs": [
    {
     "data": {
      "text/html": [
       "<div>\n",
       "<style scoped>\n",
       "    .dataframe tbody tr th:only-of-type {\n",
       "        vertical-align: middle;\n",
       "    }\n",
       "\n",
       "    .dataframe tbody tr th {\n",
       "        vertical-align: top;\n",
       "    }\n",
       "\n",
       "    .dataframe thead th {\n",
       "        text-align: right;\n",
       "    }\n",
       "</style>\n",
       "<table border=\"1\" class=\"dataframe\">\n",
       "  <thead>\n",
       "    <tr style=\"text-align: right;\">\n",
       "      <th></th>\n",
       "      <th>Tweet</th>\n",
       "      <th>True</th>\n",
       "      <th>Predicted</th>\n",
       "    </tr>\n",
       "  </thead>\n",
       "  <tbody>\n",
       "    <tr>\n",
       "      <th>0</th>\n",
       "      <td>November 15, 1994 #albumsiappreciate @ Staten ...</td>\n",
       "      <td>🔥</td>\n",
       "      <td>🔥</td>\n",
       "    </tr>\n",
       "    <tr>\n",
       "      <th>1</th>\n",
       "      <td>It's hot af today people out here in #atx ain ...</td>\n",
       "      <td>🔥</td>\n",
       "      <td>🔥</td>\n",
       "    </tr>\n",
       "    <tr>\n",
       "      <th>2</th>\n",
       "      <td>we weddings @ The Reserve at Augusta</td>\n",
       "      <td>💜</td>\n",
       "      <td>💜</td>\n",
       "    </tr>\n",
       "    <tr>\n",
       "      <th>3</th>\n",
       "      <td>@user @ Joshua Tree National Park</td>\n",
       "      <td>📷</td>\n",
       "      <td>📷</td>\n",
       "    </tr>\n",
       "    <tr>\n",
       "      <th>4</th>\n",
       "      <td>My people Thanks for coming to Michigan with m...</td>\n",
       "      <td>💕</td>\n",
       "      <td>💕</td>\n",
       "    </tr>\n",
       "    <tr>\n",
       "      <th>5</th>\n",
       "      <td>I'm really Doing this shit.. #MichealJacksonJa...</td>\n",
       "      <td>🔥</td>\n",
       "      <td>🔥</td>\n",
       "    </tr>\n",
       "    <tr>\n",
       "      <th>6</th>\n",
       "      <td>lmaooo I didn't even notice Santa Clause behin...</td>\n",
       "      <td>😍</td>\n",
       "      <td>😍</td>\n",
       "    </tr>\n",
       "    <tr>\n",
       "      <th>7</th>\n",
       "      <td>Sharing our backyard with this guy...he &amp;amp; ...</td>\n",
       "      <td>😊</td>\n",
       "      <td>💕</td>\n",
       "    </tr>\n",
       "    <tr>\n",
       "      <th>8</th>\n",
       "      <td>️ these ppl! .....#kbbq #friends #friendsmas #...</td>\n",
       "      <td>❤️</td>\n",
       "      <td>❤️</td>\n",
       "    </tr>\n",
       "    <tr>\n",
       "      <th>9</th>\n",
       "      <td>Rise &amp;amp; Grind #motivation #goals #resilienc...</td>\n",
       "      <td>😘</td>\n",
       "      <td>😘</td>\n",
       "    </tr>\n",
       "    <tr>\n",
       "      <th>10</th>\n",
       "      <td>Drinks and dinner with the best of the best @ ...</td>\n",
       "      <td>❤️</td>\n",
       "      <td>❤️</td>\n",
       "    </tr>\n",
       "    <tr>\n",
       "      <th>11</th>\n",
       "      <td>Life is pretty goood @ Weeki Wachee Springs</td>\n",
       "      <td>☀️</td>\n",
       "      <td>☀️</td>\n",
       "    </tr>\n",
       "    <tr>\n",
       "      <th>12</th>\n",
       "      <td>Chillin' @ New York, New York</td>\n",
       "      <td>😎</td>\n",
       "      <td>🇺🇸</td>\n",
       "    </tr>\n",
       "    <tr>\n",
       "      <th>13</th>\n",
       "      <td>I couldn't not pose in front of the #PumpRoom,...</td>\n",
       "      <td>📷</td>\n",
       "      <td>📷</td>\n",
       "    </tr>\n",
       "    <tr>\n",
       "      <th>14</th>\n",
       "      <td>Day off be like. Hello katnis! (@ Regal Cinema...</td>\n",
       "      <td>😊</td>\n",
       "      <td>😊</td>\n",
       "    </tr>\n",
       "    <tr>\n",
       "      <th>15</th>\n",
       "      <td>LoveLove. We want you to love taking care of y...</td>\n",
       "      <td>❤️</td>\n",
       "      <td>❤️</td>\n",
       "    </tr>\n",
       "    <tr>\n",
       "      <th>16</th>\n",
       "      <td>Fun in the ... @ Virginia Beach, Virginia</td>\n",
       "      <td>☀️</td>\n",
       "      <td>☀️</td>\n",
       "    </tr>\n",
       "    <tr>\n",
       "      <th>17</th>\n",
       "      <td>RT @user @user lmao. omg I read that wrong. I ...</td>\n",
       "      <td>😂</td>\n",
       "      <td>😂</td>\n",
       "    </tr>\n",
       "    <tr>\n",
       "      <th>18</th>\n",
       "      <td>Plaid blazer capeNEW ARRIVAL!Buy now onlinehtt...</td>\n",
       "      <td>❤️</td>\n",
       "      <td>😍</td>\n",
       "    </tr>\n",
       "    <tr>\n",
       "      <th>19</th>\n",
       "      <td>One more . Merry Christmas. #fr3ak #gorillawar...</td>\n",
       "      <td>😉</td>\n",
       "      <td>😉</td>\n",
       "    </tr>\n",
       "    <tr>\n",
       "      <th>20</th>\n",
       "      <td>Because rooftop meetings. At @user headquarter...</td>\n",
       "      <td>😍</td>\n",
       "      <td>😍</td>\n",
       "    </tr>\n",
       "    <tr>\n",
       "      <th>21</th>\n",
       "      <td>\"Call Me Ranch Cuz I Be Dressing\" #DapperDan #...</td>\n",
       "      <td>😂</td>\n",
       "      <td>😂</td>\n",
       "    </tr>\n",
       "    <tr>\n",
       "      <th>22</th>\n",
       "      <td>when fatcurry_ Dunk on _yourfavoriteuncle_ in ...</td>\n",
       "      <td>😂</td>\n",
       "      <td>😂</td>\n",
       "    </tr>\n",
       "    <tr>\n",
       "      <th>23</th>\n",
       "      <td>Love love love you @ First Baptist Church Haug...</td>\n",
       "      <td>❤️</td>\n",
       "      <td>❤️</td>\n",
       "    </tr>\n",
       "    <tr>\n",
       "      <th>24</th>\n",
       "      <td>Our amazing volunteers BEET the heat to the fi...</td>\n",
       "      <td>☀️</td>\n",
       "      <td>😊</td>\n",
       "    </tr>\n",
       "    <tr>\n",
       "      <th>25</th>\n",
       "      <td>Love my work family Thank you for making me fe...</td>\n",
       "      <td>❤️</td>\n",
       "      <td>💙</td>\n",
       "    </tr>\n",
       "    <tr>\n",
       "      <th>26</th>\n",
       "      <td>Just playing around #digitaleffects #venicebea...</td>\n",
       "      <td>😎</td>\n",
       "      <td>😎</td>\n",
       "    </tr>\n",
       "    <tr>\n",
       "      <th>27</th>\n",
       "      <td>Come try our Toasted Marshmallow Hot Chocolate...</td>\n",
       "      <td>🔥</td>\n",
       "      <td>🔥</td>\n",
       "    </tr>\n",
       "    <tr>\n",
       "      <th>28</th>\n",
       "      <td>Hope to see y'all there #25th #Birthday #weave...</td>\n",
       "      <td>😘</td>\n",
       "      <td>😘</td>\n",
       "    </tr>\n",
       "    <tr>\n",
       "      <th>29</th>\n",
       "      <td>WONDER BALLS!!!! I haven't seen these in years...</td>\n",
       "      <td>😍</td>\n",
       "      <td>😍</td>\n",
       "    </tr>\n",
       "  </tbody>\n",
       "</table>\n",
       "</div>"
      ],
      "text/plain": [
       "                                                Tweet True Predicted\n",
       "0   November 15, 1994 #albumsiappreciate @ Staten ...    🔥         🔥\n",
       "1   It's hot af today people out here in #atx ain ...    🔥         🔥\n",
       "2                we weddings @ The Reserve at Augusta    💜         💜\n",
       "3                   @user @ Joshua Tree National Park    📷         📷\n",
       "4   My people Thanks for coming to Michigan with m...    💕         💕\n",
       "5   I'm really Doing this shit.. #MichealJacksonJa...    🔥         🔥\n",
       "6   lmaooo I didn't even notice Santa Clause behin...    😍         😍\n",
       "7   Sharing our backyard with this guy...he &amp; ...    😊         💕\n",
       "8   ️ these ppl! .....#kbbq #friends #friendsmas #...   ❤️        ❤️\n",
       "9   Rise &amp; Grind #motivation #goals #resilienc...    😘         😘\n",
       "10  Drinks and dinner with the best of the best @ ...   ❤️        ❤️\n",
       "11        Life is pretty goood @ Weeki Wachee Springs   ☀️        ☀️\n",
       "12                      Chillin' @ New York, New York    😎        🇺🇸\n",
       "13  I couldn't not pose in front of the #PumpRoom,...    📷         📷\n",
       "14  Day off be like. Hello katnis! (@ Regal Cinema...    😊         😊\n",
       "15  LoveLove. We want you to love taking care of y...   ❤️        ❤️\n",
       "16          Fun in the ... @ Virginia Beach, Virginia   ☀️        ☀️\n",
       "17  RT @user @user lmao. omg I read that wrong. I ...    😂         😂\n",
       "18  Plaid blazer capeNEW ARRIVAL!Buy now onlinehtt...   ❤️         😍\n",
       "19  One more . Merry Christmas. #fr3ak #gorillawar...    😉         😉\n",
       "20  Because rooftop meetings. At @user headquarter...    😍         😍\n",
       "21  \"Call Me Ranch Cuz I Be Dressing\" #DapperDan #...    😂         😂\n",
       "22  when fatcurry_ Dunk on _yourfavoriteuncle_ in ...    😂         😂\n",
       "23  Love love love you @ First Baptist Church Haug...   ❤️        ❤️\n",
       "24  Our amazing volunteers BEET the heat to the fi...   ☀️         😊\n",
       "25  Love my work family Thank you for making me fe...   ❤️         💙\n",
       "26  Just playing around #digitaleffects #venicebea...    😎         😎\n",
       "27  Come try our Toasted Marshmallow Hot Chocolate...    🔥         🔥\n",
       "28  Hope to see y'all there #25th #Birthday #weave...    😘         😘\n",
       "29  WONDER BALLS!!!! I haven't seen these in years...    😍         😍"
      ]
     },
     "execution_count": 6,
     "metadata": {},
     "output_type": "execute_result"
    }
   ],
   "source": [
    "X_sequences = preprocess_text(X)\n",
    "predictions = np.argmax(model.predict(X_sequences), axis=1)\n",
    "\n",
    "y_map = [emoji_dict[idx] for idx in y]\n",
    "predictions = [emoji_dict[idx] for idx in predictions]\n",
    "\n",
    "results = pd.DataFrame({\"Tweet\":X})\n",
    "results[\"True\"] = y_map\n",
    "results[\"Predicted\"] = predictions\n",
    "\n",
    "results"
   ]
  },
  {
   "cell_type": "markdown",
   "metadata": {},
   "source": [
    "#    "
   ]
  },
  {
   "cell_type": "markdown",
   "metadata": {},
   "source": [
    "## Emojify Tweet"
   ]
  },
  {
   "cell_type": "code",
   "execution_count": 7,
   "metadata": {},
   "outputs": [],
   "source": [
    "import string\n",
    "import re\n",
    "\n",
    "from tensorflow import keras\n",
    "emoji_predict_model = keras.models.load_model(\"Model/BLSTM.h5\", compile=False)\n",
    "\n",
    "\n",
    "def tweet_clean(tweet):\n",
    "    tweet = str(tweet).lower()\n",
    "    rm_mention = re.sub(r'@[A-Za-z0-9]+', '', tweet)                       # remove @mentions\n",
    "    rm_rt = re.sub(r'RT[/s]+', '', rm_mention)                             # remove RT\n",
    "    rm_links = re.sub(r'http\\S+', '', rm_rt)                               # remove hyperlinks\n",
    "    rm_links = re.sub(r'https?:\\/\\/\\S+','', rm_links)\n",
    "    rm_nums = re.sub('[0-9]+', '', rm_links)                               # remove numbers\n",
    "    rm_punc = [char for char in rm_nums if char not in string.punctuation] # remove punctuations\n",
    "    rm_punc = ''.join(rm_punc)\n",
    "    cleaned = rm_punc\n",
    "    \n",
    "    return cleaned\n",
    "\n",
    "\n",
    "def predict_emoji(text, model=emoji_predict_model):\n",
    "    text = tweet_clean(text)\n",
    "    X_sequences = preprocess_text([text])\n",
    "    predictions = np.argmax(model.predict(X_sequences), axis=1)\n",
    "    emoji_idx = predictions[0]\n",
    "    emoji = emoji_dict[emoji_idx]\n",
    "    \n",
    "    return emoji"
   ]
  },
  {
   "cell_type": "code",
   "execution_count": 8,
   "metadata": {},
   "outputs": [
    {
     "name": "stdout",
     "output_type": "stream",
     "text": [
      "Enter tweet \n",
      "\n",
      "Elon is a cool guy @spacex\n",
      "\n",
      "\n",
      " Emojified Tweet \n",
      "\n",
      "\n",
      "Elon is a cool guy @spacex 😎\n"
     ]
    }
   ],
   "source": [
    "text = input(\"Enter tweet \\n\\n\")\n",
    "\n",
    "print(\"\\n\\n Emojified Tweet \\n\\n\")\n",
    "print(text+\" \"+predict_emoji(text))"
   ]
  },
  {
   "cell_type": "code",
   "execution_count": 8,
   "metadata": {},
   "outputs": [
    {
     "name": "stdout",
     "output_type": "stream",
     "text": [
      "Enter tweet \n",
      "\n",
      "Had great fun this weekend #christmas\n",
      "\n",
      "\n",
      " Emojified Tweet \n",
      "\n",
      "\n",
      "Had great fun this weekend #christmas 🎄\n"
     ]
    }
   ],
   "source": [
    "text = input(\"Enter tweet \\n\\n\")\n",
    "\n",
    "print(\"\\n\\n Emojified Tweet \\n\\n\")\n",
    "print(text+\" \"+predict_emoji(text))"
   ]
  },
  {
   "cell_type": "code",
   "execution_count": 33,
   "metadata": {},
   "outputs": [
    {
     "name": "stdout",
     "output_type": "stream",
     "text": [
      "Enter tweet \n",
      "\n",
      "What a scene @LA, everyone should visit this place\n",
      "\n",
      "\n",
      " Emojified Tweet \n",
      "\n",
      "\n",
      "What a scene @LA, everyone should visit this place 📷\n"
     ]
    }
   ],
   "source": [
    "text = input(\"Enter tweet \\n\\n\")\n",
    "\n",
    "print(\"\\n\\n Emojified Tweet \\n\\n\")\n",
    "print(text+\" \"+predict_emoji(text))"
   ]
  },
  {
   "cell_type": "code",
   "execution_count": 41,
   "metadata": {},
   "outputs": [
    {
     "name": "stdout",
     "output_type": "stream",
     "text": [
      "Enter tweet \n",
      "\n",
      "lets hope the wildfires ceases\n",
      "\n",
      "\n",
      " Emojified Tweet \n",
      "\n",
      "\n",
      "lets hope the wildfires ceases 🔥\n"
     ]
    }
   ],
   "source": [
    "text = input(\"Enter tweet \\n\\n\")\n",
    "\n",
    "print(\"\\n\\n Emojified Tweet \\n\\n\")\n",
    "print(text+\" \"+predict_emoji(text))"
   ]
  },
  {
   "cell_type": "code",
   "execution_count": 14,
   "metadata": {},
   "outputs": [
    {
     "name": "stdout",
     "output_type": "stream",
     "text": [
      "Enter tweet \n",
      "\n",
      "I could not stop laughing after seeing this funny meme\n",
      "\n",
      "\n",
      " Emojified Tweet \n",
      "\n",
      "\n",
      "I could not stop laughing after seeing this funny meme 😂\n"
     ]
    }
   ],
   "source": [
    "text = input(\"Enter tweet \\n\\n\")\n",
    "\n",
    "print(\"\\n\\n Emojified Tweet \\n\\n\")\n",
    "print(text+\" \"+predict_emoji(text))"
   ]
  },
  {
   "cell_type": "code",
   "execution_count": null,
   "metadata": {},
   "outputs": [],
   "source": []
  }
 ],
 "metadata": {
  "kernelspec": {
   "display_name": "Python 3",
   "language": "python",
   "name": "python3"
  },
  "language_info": {
   "codemirror_mode": {
    "name": "ipython",
    "version": 3
   },
   "file_extension": ".py",
   "mimetype": "text/x-python",
   "name": "python",
   "nbconvert_exporter": "python",
   "pygments_lexer": "ipython3",
   "version": "3.8.8"
  }
 },
 "nbformat": 4,
 "nbformat_minor": 2
}
